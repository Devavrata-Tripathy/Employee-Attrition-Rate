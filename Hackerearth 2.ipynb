{
 "cells": [
  {
   "cell_type": "code",
   "execution_count": 41,
   "metadata": {},
   "outputs": [
    {
     "name": "stdout",
     "output_type": "stream",
     "text": [
      "[0.19863041 0.19129547 0.17572663 ... 0.18578078 0.1717596  0.18928557]\n"
     ]
    }
   ],
   "source": [
    "import numpy as np\n",
    "import matplotlib.pyplot as plt\n",
    "import pandas as pd\n",
    "\n",
    "df = pd.read_csv('Train.csv')\n",
    "df.drop(df.iloc[:,14:15], inplace = True, axis = 1)\n",
    "#print(df.head(10))\n",
    "x = df.iloc[:,8:22].values\n",
    "y = df.iloc[:,22].values\n",
    "\n",
    "\n",
    "from sklearn.impute import SimpleImputer\n",
    "imp = SimpleImputer(missing_values = np.nan , strategy = 'mean')\n",
    "imp = imp.fit(x)\n",
    "x = imp.transform(x)\n",
    "\n",
    "#from sklearn.model_selection import train_test_split\n",
    "#x_train, x_test, y_train, y_test = train_test_split(x, y, test_size = 0.2, random_state = 1)\n",
    "\n",
    "from sklearn.linear_model import LinearRegression\n",
    "model = LinearRegression()\n",
    "model.fit(x,y)\n",
    "#print(y_test)\n",
    "\n",
    "#from sklearn.metrics import mean_squared_error, r2_score\n",
    "#rmse = np.sqrt(mean_squared_error(y_test,y_pred))\n",
    "#r2 = r2_score(y_test,y_pred)\n",
    "#print(rmse)\n",
    "#print(r2)\n",
    "\n",
    "td = pd.read_csv('Test.csv')\n",
    "td.drop(td.iloc[:,14:15], inplace = True, axis = 1)\n",
    "x_test = td.iloc[:,8:23].values\n",
    "impt = SimpleImputer(missing_values = np.nan , strategy = 'mean')\n",
    "impt = impt.fit(x_test)\n",
    "x_test = imp.transform(x_test)\n",
    "\n",
    "y_pred = model.predict(x_test)\n",
    "print(y_pred)\n"
   ]
  },
  {
   "cell_type": "code",
   "execution_count": 42,
   "metadata": {},
   "outputs": [],
   "source": [
    "my_submission = pd.DataFrame({'Attrition_Rate': y_pred})\n",
    "my_submission.to_csv('submission1.csv', index = False)\n",
    "\n"
   ]
  },
  {
   "cell_type": "code",
   "execution_count": null,
   "metadata": {},
   "outputs": [],
   "source": []
  }
 ],
 "metadata": {
  "kernelspec": {
   "display_name": "Python 3",
   "language": "python",
   "name": "python3"
  },
  "language_info": {
   "codemirror_mode": {
    "name": "ipython",
    "version": 3
   },
   "file_extension": ".py",
   "mimetype": "text/x-python",
   "name": "python",
   "nbconvert_exporter": "python",
   "pygments_lexer": "ipython3",
   "version": "3.7.6"
  }
 },
 "nbformat": 4,
 "nbformat_minor": 4
}
