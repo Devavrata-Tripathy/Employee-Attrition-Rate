{
 "cells": [
  {
   "cell_type": "code",
   "execution_count": 19,
   "metadata": {},
   "outputs": [
    {
     "name": "stdout",
     "output_type": "stream",
     "text": [
      "(7000, 10)\n",
      "      Time_of_service  Time_since_promotion  growth_rate  Post_Level  \\\n",
      "0                 4.0                     4           33           1   \n",
      "1                 5.0                     4           36           3   \n",
      "2                27.0                     3           51           2   \n",
      "3                 4.0                     3           56           3   \n",
      "4                 5.0                     4           62           3   \n",
      "...               ...                   ...          ...         ...   \n",
      "6995              4.0                     1           20           2   \n",
      "6996             16.0                     2           59           2   \n",
      "6997             10.0                     1           59           2   \n",
      "6998             24.0                     1           21           5   \n",
      "6999             22.0                     2           74           4   \n",
      "\n",
      "      Pay_Scale  Work_Life_balance    VAR3      VAR4  VAR6  VAR7  \n",
      "0           7.0                3.0  1.8688  2.000000     5     3  \n",
      "1           6.0                4.0 -0.4537  2.000000     5     3  \n",
      "2           8.0                1.0 -0.4537  3.000000     8     3  \n",
      "3           8.0                1.0 -0.4537  1.891078     7     3  \n",
      "4           2.0                3.0 -0.4537  2.000000     8     2  \n",
      "...         ...                ...     ...       ...   ...   ...  \n",
      "6995        6.0                3.0 -0.4537  2.000000     7     3  \n",
      "6996        4.0                3.0 -2.7762  2.000000     8     4  \n",
      "6997        3.0                4.0 -0.4537  2.000000     8     3  \n",
      "6998        8.0                2.0  1.8688  2.000000     6     3  \n",
      "6999        5.0                3.0 -1.6150  3.000000     5     3  \n",
      "\n",
      "[7000 rows x 10 columns]\n",
      "[0.1841 0.067  0.0851 ... 0.7847 0.4162 0.091 ]\n"
     ]
    }
   ],
   "source": [
    "#Import the important libraries\n",
    "import pandas as pd\n",
    "import numpy as np\n",
    "\n",
    "#Reading the train set data\n",
    "df = pd.read_csv('Train.csv')\n",
    "\n",
    "#Dropping those columns that are not required \n",
    "df.drop(df.iloc[:,:8], inplace = True, axis = 1)\n",
    "df.drop(df.iloc[:,3:4], inplace = True, axis = 1)\n",
    "df.drop(df.iloc[:,5:6], inplace = True, axis = 1)\n",
    "df1 = df.drop(['VAR1','VAR2', 'VAR5'], axis = 1)\n",
    "df1.head(5)\n",
    "#Handling the missing values\n",
    "df2 = df1.fillna(df1.mean())\n",
    "\n",
    "#Create train set \n",
    "x_train = df2.drop(['Attrition_rate'], axis = 1)\n",
    "\n",
    "y_train = df.iloc[:,-1].values\n",
    "\n",
    "print(x_train.shape)\n",
    "print(x_train)\n",
    "print(y_train)"
   ]
  },
  {
   "cell_type": "code",
   "execution_count": 20,
   "metadata": {},
   "outputs": [
    {
     "name": "stdout",
     "output_type": "stream",
     "text": [
      "(3000, 10)\n",
      "[[ 7.          4.         30.         ...  2.          8.\n",
      "   4.        ]\n",
      " [41.          2.         72.         ...  1.          8.\n",
      "   2.        ]\n",
      " [21.          3.         25.         ...  2.          9.\n",
      "   3.        ]\n",
      " ...\n",
      " [35.          1.         69.         ...  1.90747594  8.\n",
      "   4.        ]\n",
      " [23.          1.         30.         ...  2.          9.\n",
      "   2.        ]\n",
      " [12.          4.         70.         ...  2.          8.\n",
      "   5.        ]]\n"
     ]
    }
   ],
   "source": [
    "#Reading the test set data\n",
    "td = pd.read_csv('Test.csv')\n",
    "\n",
    "#Dropping those columns that are not required\n",
    "td.drop(td.iloc[:,:8], inplace = True, axis = 1)\n",
    "td.drop(td.iloc[:,3:4], inplace = True, axis = 1)\n",
    "td.drop(td.iloc[:,5:6], inplace = True, axis = 1)\n",
    "td1 = td.drop(['VAR1','VAR2', 'VAR5'], axis = 1)\n",
    "td1.head(5)\n",
    "#Handling missing values\n",
    "td2 = td1.fillna(td1.mean())\n",
    "\n",
    "#Finally creating the test data for testing\n",
    "x_test = td2.iloc[:,:].values\n",
    "\n",
    "print(x_test.shape)\n",
    "print(x_test)"
   ]
  },
  {
   "cell_type": "code",
   "execution_count": 21,
   "metadata": {},
   "outputs": [
    {
     "name": "stdout",
     "output_type": "stream",
     "text": [
      "[0.19330541 0.18829812 0.17193183 ... 0.17546813 0.17509974 0.19230532]\n"
     ]
    }
   ],
   "source": [
    "from sklearn.linear_model import LinearRegression\n",
    "\n",
    "model = LinearRegression()\n",
    "model.fit(x_train,y_train)\n",
    "y_pred = model.predict(x_test)\n",
    "\n",
    "#Predicting the results\n",
    "print(y_pred)"
   ]
  },
  {
   "cell_type": "code",
   "execution_count": 22,
   "metadata": {},
   "outputs": [],
   "source": [
    "my_submission = pd.DataFrame({'Attrition_rate': y_pred})\n",
    "my_submission.to_csv('Submission.csv', index = False)"
   ]
  },
  {
   "cell_type": "code",
   "execution_count": null,
   "metadata": {},
   "outputs": [],
   "source": []
  }
 ],
 "metadata": {
  "kernelspec": {
   "display_name": "Python 3",
   "language": "python",
   "name": "python3"
  },
  "language_info": {
   "codemirror_mode": {
    "name": "ipython",
    "version": 3
   },
   "file_extension": ".py",
   "mimetype": "text/x-python",
   "name": "python",
   "nbconvert_exporter": "python",
   "pygments_lexer": "ipython3",
   "version": "3.7.6"
  }
 },
 "nbformat": 4,
 "nbformat_minor": 4
}
